{
  "nbformat": 4,
  "nbformat_minor": 0,
  "metadata": {
    "colab": {
      "provenance": []
    },
    "kernelspec": {
      "name": "python3",
      "display_name": "Python 3"
    },
    "language_info": {
      "name": "python"
    }
  },
  "cells": [
    {
      "cell_type": "markdown",
      "source": [
        "# Análisis Exploratorio de los Datos\n",
        "\n",
        "Se realiza a continuación el análisis de la data con la cual  se realiza el fine-tuning del modelo preentrenado. "
      ],
      "metadata": {
        "id": "IyTXU1Z-J3IN"
      }
    },
    {
      "cell_type": "code",
      "source": [
        "from google.colab import drive\n",
        "drive.mount('/content/drive')\n",
        "path= \"/content/drive/MyDrive/MLDS-2/MODULO II/Talleres/SMSSpamCollection\""
      ],
      "metadata": {
        "colab": {
          "base_uri": "https://localhost:8080/"
        },
        "id": "gTYjO-PJIUT-",
        "outputId": "7685b9d8-8245-449b-8c9c-1ffb05812920"
      },
      "execution_count": 2,
      "outputs": [
        {
          "output_type": "stream",
          "name": "stdout",
          "text": [
            "Mounted at /content/drive\n"
          ]
        }
      ]
    },
    {
      "cell_type": "code",
      "execution_count": 3,
      "metadata": {
        "colab": {
          "base_uri": "https://localhost:8080/"
        },
        "id": "XceljfdKJrFH",
        "outputId": "8fb3a0b0-9ee1-4859-881b-8dcc94782ee6"
      },
      "outputs": [
        {
          "output_type": "execute_result",
          "data": {
            "text/plain": [
              "(5572,)"
            ]
          },
          "metadata": {},
          "execution_count": 3
        }
      ],
      "source": [
        "from numpy.core.fromnumeric import shape\n",
        "import pandas as pd\n",
        "df=messages = pd.read_csv(path, sep='\\t',\n",
        "                           names=[\"label\", \"message\"])\n",
        "X=list(df['message'])\n",
        "y=list(df['label'])\n",
        "#y=list(pd.get_dummies(y,drop_first=True)['spam'])\n",
        "shape(X)\n",
        "\n"
      ]
    },
    {
      "cell_type": "code",
      "source": [
        "shape(y)"
      ],
      "metadata": {
        "colab": {
          "base_uri": "https://localhost:8080/"
        },
        "id": "XLw8_0CPQbiW",
        "outputId": "816ab2fb-6076-441e-e6d4-7dbf18a2fb48"
      },
      "execution_count": 4,
      "outputs": [
        {
          "output_type": "execute_result",
          "data": {
            "text/plain": [
              "(5572,)"
            ]
          },
          "metadata": {},
          "execution_count": 4
        }
      ]
    },
    {
      "cell_type": "markdown",
      "source": [
        "La muestra con la que se realiza el fine-tuning del modelo escogido está compuesta por 5572 mensajes y sus correspondientes etiquetas. "
      ],
      "metadata": {
        "id": "Glb5hn1NrLwj"
      }
    },
    {
      "cell_type": "code",
      "source": [
        "salida =pd.unique(y)\n",
        "salida"
      ],
      "metadata": {
        "colab": {
          "base_uri": "https://localhost:8080/"
        },
        "id": "uSr2gsmzpTNW",
        "outputId": "5c5d1f7d-a143-4a7f-f517-8aa43fe940bd"
      },
      "execution_count": 10,
      "outputs": [
        {
          "output_type": "execute_result",
          "data": {
            "text/plain": [
              "array(['ham', 'spam'], dtype=object)"
            ]
          },
          "metadata": {},
          "execution_count": 10
        }
      ]
    },
    {
      "cell_type": "markdown",
      "source": [
        "Se tiene que el vector de etiquetas es una lista binaria. Se encarga de etiquetar mensajes en **Spam** o no (**Ham**). "
      ],
      "metadata": {
        "id": "ZFzrOT1SqKbk"
      }
    }
  ]
}